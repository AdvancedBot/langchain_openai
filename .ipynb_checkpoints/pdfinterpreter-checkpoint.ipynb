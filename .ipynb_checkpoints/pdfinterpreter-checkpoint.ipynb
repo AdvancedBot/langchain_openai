{
 "cells": [
  {
   "cell_type": "markdown",
   "metadata": {},
   "source": [
    "### 请确保你的端口号和API key是否输入正确"
   ]
  },
  {
   "cell_type": "code",
   "execution_count": 1,
   "metadata": {},
   "outputs": [],
   "source": [
    "import os\n",
    "import openai\n",
    "os.environ[\"OPENAI_API_KEY\"]=\"\"\n",
    "openai.api_key=\"\"\n",
    "proxies = {\n",
    "    'http':'http://127.0.0.1:10809',\n",
    "    'https':'http://127.0.0.1:10809'\n",
    "}\n",
    "openai.proxy = proxies"
   ]
  },
  {
   "cell_type": "code",
   "execution_count": 3,
   "metadata": {
    "colab": {
     "base_uri": "https://localhost:8080/"
    },
    "id": "xlorSbccWEDa",
    "outputId": "8010d92f-8327-4c28-bc1f-721c2d191651"
   },
   "outputs": [],
   "source": [
    "# !pip install langchain"
   ]
  },
  {
   "cell_type": "code",
   "execution_count": 5,
   "metadata": {},
   "outputs": [],
   "source": [
    "# !pip install openai"
   ]
  },
  {
   "cell_type": "code",
   "execution_count": 1,
   "metadata": {},
   "outputs": [],
   "source": [
    "# pip install PyPDF2 -i https://pypi.tuna.tsinghua.edu.cn/simple"
   ]
  },
  {
   "cell_type": "code",
   "execution_count": 18,
   "metadata": {},
   "outputs": [],
   "source": [
    "# pip install tiktoken -i https://pypi.tuna.tsinghua.edu.cn/simple"
   ]
  },
  {
   "cell_type": "code",
   "execution_count": 24,
   "metadata": {},
   "outputs": [],
   "source": [
    "# pip install -i https://pypi.tuna.tsinghua.edu.cn/simple --trusted-host pypi.tuna.tsinghua.edu.cn faiss-cpu"
   ]
  },
  {
   "cell_type": "code",
   "execution_count": 2,
   "metadata": {
    "id": "nq0vKGFeW1KD"
   },
   "outputs": [],
   "source": [
    "from PyPDF2 import PdfReader\n",
    "from langchain.embeddings.openai import OpenAIEmbeddings\n",
    "from langchain.text_splitter import CharacterTextSplitter\n",
    "from langchain.vectorstores import ElasticVectorSearch, Pinecone, Weaviate, FAISS"
   ]
  },
  {
   "cell_type": "code",
   "execution_count": 3,
   "metadata": {
    "id": "NalD3XkQWrJR"
   },
   "outputs": [],
   "source": [
    "# location of the pdf file/files.\n",
    "reader = PdfReader('./PDF/homework.pdf')"
   ]
  },
  {
   "cell_type": "markdown",
   "metadata": {},
   "source": [
    "## 正式代码部分"
   ]
  },
  {
   "cell_type": "code",
   "execution_count": 4,
   "metadata": {
    "id": "2VXlucKiW7bX"
   },
   "outputs": [],
   "source": [
    "# read data from the file and put them into a variable called raw_text\n",
    "raw_text = ''\n",
    "for i, page in enumerate(reader.pages):\n",
    "    text = page.extract_text()\n",
    "    if text:\n",
    "        raw_text += text"
   ]
  },
  {
   "cell_type": "code",
   "execution_count": 5,
   "metadata": {
    "id": "Gy3UwHGAZa0M"
   },
   "outputs": [],
   "source": [
    "# raw_text"
   ]
  },
  {
   "cell_type": "code",
   "execution_count": 6,
   "metadata": {
    "colab": {
     "base_uri": "https://localhost:8080/"
    },
    "id": "CQkqUBlzW-Xv",
    "outputId": "b313d057-f951-4ec1-9319-1825b6bf35e9"
   },
   "outputs": [
    {
     "data": {
      "text/plain": [
       "4556"
      ]
     },
     "execution_count": 6,
     "metadata": {},
     "output_type": "execute_result"
    }
   ],
   "source": [
    "len(raw_text)"
   ]
  },
  {
   "cell_type": "code",
   "execution_count": 5,
   "metadata": {
    "id": "VdXzkpf9XAfP"
   },
   "outputs": [],
   "source": [
    "# We need to split the text that we read into smaller chunks so that during information retreival we don't hit the token size limits.\n",
    "text_splitter = CharacterTextSplitter(\n",
    "    separator = \"\\n\",\n",
    "    chunk_size = 1500,\n",
    "    chunk_overlap  = 200,\n",
    "    length_function = len,\n",
    ")\n",
    "texts = text_splitter.split_text(raw_text)"
   ]
  },
  {
   "cell_type": "code",
   "execution_count": 6,
   "metadata": {
    "colab": {
     "base_uri": "https://localhost:8080/"
    },
    "id": "ozkNTiNuZ0TX",
    "outputId": "8fb43a97-a7ff-4f0a-bf95-45d672034aec"
   },
   "outputs": [
    {
     "data": {
      "text/plain": [
       "4"
      ]
     },
     "execution_count": 6,
     "metadata": {},
     "output_type": "execute_result"
    }
   ],
   "source": [
    "len(texts)"
   ]
  },
  {
   "cell_type": "code",
   "execution_count": 12,
   "metadata": {
    "colab": {
     "base_uri": "https://localhost:8080/",
     "height": 177
    },
    "id": "1SqdR3wFZ3Ih",
    "outputId": "6195e68a-d749-4a32-b045-63549692679d"
   },
   "outputs": [],
   "source": [
    "# texts[0]"
   ]
  },
  {
   "cell_type": "code",
   "execution_count": 7,
   "metadata": {
    "id": "TcZUsQVyXBPX"
   },
   "outputs": [],
   "source": [
    "# Download embeddings from OpenAI\n",
    "embeddings = OpenAIEmbeddings()"
   ]
  },
  {
   "cell_type": "code",
   "execution_count": 8,
   "metadata": {
    "id": "9C8py6wQXE5_"
   },
   "outputs": [],
   "source": [
    "docsearch = FAISS.from_texts(texts, embeddings)"
   ]
  },
  {
   "cell_type": "code",
   "execution_count": 9,
   "metadata": {
    "colab": {
     "base_uri": "https://localhost:8080/"
    },
    "id": "E_t_EpZ_XGz2",
    "outputId": "079d47bc-056d-4557-c641-f61b2189374c"
   },
   "outputs": [
    {
     "data": {
      "text/plain": [
       "<langchain.vectorstores.faiss.FAISS at 0x19a90006e50>"
      ]
     },
     "execution_count": 9,
     "metadata": {},
     "output_type": "execute_result"
    }
   ],
   "source": [
    "docsearch"
   ]
  },
  {
   "cell_type": "code",
   "execution_count": 10,
   "metadata": {
    "id": "wpQ2VnBvXI2f"
   },
   "outputs": [],
   "source": [
    "from langchain.chains.question_answering import load_qa_chain\n",
    "from langchain.llms import OpenAI\n",
    "from langchain.chat_models import ChatOpenAI\n",
    "from langchain.callbacks import get_openai_callback\n",
    "from langchain.prompts import PromptTemplate"
   ]
  },
  {
   "cell_type": "code",
   "execution_count": 12,
   "metadata": {
    "id": "qTS__kgp66Ry"
   },
   "outputs": [],
   "source": [
    "# openai.Model.list()"
   ]
  },
  {
   "cell_type": "code",
   "execution_count": 13,
   "metadata": {
    "id": "vBXeJzYVzRaR"
   },
   "outputs": [],
   "source": [
    "prompt_template = \"\"\"Use the following pieces of context to answer the question at the end. \n",
    "If you don't know the answer, just say that you don't know or you can't find the answer in the article, don't try to make up an answer.\n",
    "\n",
    "{context}\n",
    "\n",
    "Question: {question}\n",
    "Answer in Chinese:\"\"\"\n",
    "PROMPT = PromptTemplate(\n",
    "    template=prompt_template, input_variables=[\"context\", \"question\"]\n",
    ")"
   ]
  },
  {
   "cell_type": "code",
   "execution_count": 20,
   "metadata": {
    "id": "_L_Ywm-iXLhm"
   },
   "outputs": [],
   "source": [
    "chain = load_qa_chain(ChatOpenAI(model_name=\"gpt-4\"), chain_type=\"stuff\", prompt=PROMPT)"
   ]
  },
  {
   "cell_type": "code",
   "execution_count": 16,
   "metadata": {
    "id": "9ipDDJ0O1XIQ"
   },
   "outputs": [],
   "source": [
    "def query_func(str):\n",
    "  with get_openai_callback() as cb:\n",
    "    query = str\n",
    "    docs = docsearch.similarity_search(query)\n",
    "    res = chain.run(input_documents=docs, question=query)\n",
    "    print(f\"Output: {res}\")\n",
    "    print(f\"Total Tokens: {cb.total_tokens}\")\n",
    "    print(f\"Prompt Tokens: {cb.prompt_tokens}\")\n",
    "    print(f\"Completion Tokens: {cb.completion_tokens}\")\n",
    "    print(f\"Successful Requests: {cb.successful_requests}\")\n",
    "    print(f\"Total Cost (USD): ${cb.total_cost}\")"
   ]
  },
  {
   "cell_type": "code",
   "execution_count": 17,
   "metadata": {
    "colab": {
     "base_uri": "https://localhost:8080/"
    },
    "id": "3mtAth2jXNKO",
    "outputId": "0ab59af0-bfb6-4975-e020-68ab6a2dca68"
   },
   "outputs": [
    {
     "name": "stdout",
     "output_type": "stream",
     "text": [
      "Output: 文档中没有提供作者或作者的信息。\n",
      "Total Tokens: 1920\n",
      "Prompt Tokens: 1907\n",
      "Completion Tokens: 13\n",
      "Successful Requests: 1\n",
      "Total Cost (USD): $0.05799\n"
     ]
    }
   ],
   "source": [
    "query_func(\"who is the authors or author?\")\n"
   ]
  },
  {
   "cell_type": "code",
   "execution_count": 18,
   "metadata": {
    "colab": {
     "base_uri": "https://localhost:8080/"
    },
    "id": "RahXBIXjXO7X",
    "outputId": "cdffb681-eac7-4ea8-b04a-3b44d977e2ec"
   },
   "outputs": [
    {
     "name": "stdout",
     "output_type": "stream",
     "text": [
      "Output: 这个PDF的主要内容是关于FIT1013数字未来：商业IT的作业3。这个作业要求学生使用Microsoft Access构建数据库并分析数据。学生需要创建一个包含四个表的Access数据库，基于多个表创建查询，使用多个选择标准，并执行从VBA到Microsoft Access的数据连接。此外，学生还需要在Moodle/Turnitin上提交作业，并确保文件名包含单元代码、作业编号和学生ID号。对于迟交的作业，将会扣除10%的分数。扩展的LuxDrive业务现在需要你开发一个Access数据库。作业还包括其他许多任务，如创建查询、制作表单、生成报告以及使用VBA从Access中导入/导出数据。\n",
      "Total Tokens: 2107\n",
      "Prompt Tokens: 1908\n",
      "Completion Tokens: 199\n",
      "Successful Requests: 1\n",
      "Total Cost (USD): $0.06917999999999999\n"
     ]
    }
   ],
   "source": [
    "query_func(\"what is main content of this pdf?\")"
   ]
  }
 ],
 "metadata": {
  "colab": {
   "provenance": []
  },
  "gpuClass": "standard",
  "kernelspec": {
   "display_name": "langchain1",
   "language": "python",
   "name": "langchain1"
  },
  "language_info": {
   "codemirror_mode": {
    "name": "ipython",
    "version": 3
   },
   "file_extension": ".py",
   "mimetype": "text/x-python",
   "name": "python",
   "nbconvert_exporter": "python",
   "pygments_lexer": "ipython3",
   "version": "3.8.18"
  }
 },
 "nbformat": 4,
 "nbformat_minor": 1
}
